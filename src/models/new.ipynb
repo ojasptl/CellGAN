{
 "cells": [
  {
   "cell_type": "code",
   "execution_count": 7,
   "metadata": {},
   "outputs": [
    {
     "ename": "ImportError",
     "evalue": "attempted relative import with no known parent package",
     "output_type": "error",
     "traceback": [
      "\u001b[0;31m---------------------------------------------------------------------------\u001b[0m",
      "\u001b[0;31mImportError\u001b[0m                               Traceback (most recent call last)",
      "Cell \u001b[0;32mIn[7], line 2\u001b[0m\n\u001b[1;32m      1\u001b[0m \u001b[38;5;28;01mimport\u001b[39;00m \u001b[38;5;21;01mtorch\u001b[39;00m\n\u001b[0;32m----> 2\u001b[0m \u001b[38;5;28;01mfrom\u001b[39;00m \u001b[38;5;21;01mgenerator\u001b[39;00m \u001b[38;5;28;01mimport\u001b[39;00m Generator\n\u001b[1;32m      3\u001b[0m model \u001b[38;5;241m=\u001b[39m Generator()\n\u001b[1;32m      4\u001b[0m model\u001b[38;5;241m.\u001b[39mload_state_dict(torch\u001b[38;5;241m.\u001b[39mload(\u001b[38;5;124m'\u001b[39m\u001b[38;5;124mgenerator.pth\u001b[39m\u001b[38;5;124m'\u001b[39m, weights_only\u001b[38;5;241m=\u001b[39m\u001b[38;5;28;01mTrue\u001b[39;00m))\n",
      "File \u001b[0;32m/workspaces/CellGAN/src/models/generator.py:3\u001b[0m\n\u001b[1;32m      1\u001b[0m \u001b[38;5;28;01mimport\u001b[39;00m \u001b[38;5;21;01mtorch\u001b[39;00m\n\u001b[1;32m      2\u001b[0m \u001b[38;5;28;01mimport\u001b[39;00m \u001b[38;5;21;01mtorch\u001b[39;00m\u001b[38;5;21;01m.\u001b[39;00m\u001b[38;5;21;01mnn\u001b[39;00m \u001b[38;5;28;01mas\u001b[39;00m \u001b[38;5;21;01mnn\u001b[39;00m\n\u001b[0;32m----> 3\u001b[0m \u001b[38;5;28;01mfrom\u001b[39;00m \u001b[38;5;21;01m.\u001b[39;00m\u001b[38;5;21;01mmodules\u001b[39;00m \u001b[38;5;28;01mimport\u001b[39;00m InitLayer, UpBlock, SN_Conv2d, EmbeddingNetwork, SGCBlock\n\u001b[1;32m      6\u001b[0m \u001b[38;5;28;01mclass\u001b[39;00m \u001b[38;5;21;01mGenerator\u001b[39;00m(nn\u001b[38;5;241m.\u001b[39mModule):\n\u001b[1;32m      7\u001b[0m     \u001b[38;5;28;01mdef\u001b[39;00m \u001b[38;5;21m__init__\u001b[39m(\u001b[38;5;28mself\u001b[39m, nc\u001b[38;5;241m=\u001b[39m\u001b[38;5;241m3\u001b[39m, nz\u001b[38;5;241m=\u001b[39m\u001b[38;5;241m128\u001b[39m, ngf\u001b[38;5;241m=\u001b[39m\u001b[38;5;241m32\u001b[39m, n_class\u001b[38;5;241m=\u001b[39m\u001b[38;5;241m5\u001b[39m, d_cond\u001b[38;5;241m=\u001b[39m\u001b[38;5;241m128\u001b[39m, n_layer\u001b[38;5;241m=\u001b[39m\u001b[38;5;241m4\u001b[39m):\n",
      "\u001b[0;31mImportError\u001b[0m: attempted relative import with no known parent package"
     ]
    }
   ],
   "source": [
    "import torch\n",
    "from generator import Generator\n",
    "model = Generator()\n",
    "model.load_state_dict(torch.load('generator.pth', weights_only=True))"
   ]
  },
  {
   "cell_type": "code",
   "execution_count": 10,
   "metadata": {},
   "outputs": [
    {
     "name": "stdout",
     "output_type": "stream",
     "text": [
      "odict_keys(['cls_map_net.net.0.bias', 'cls_map_net.net.0.weight_orig', 'cls_map_net.net.0.weight_u', 'cls_map_net.net.0.weight_v', 'cls_map_net.net.2.bias', 'cls_map_net.net.2.weight_orig', 'cls_map_net.net.2.weight_u', 'cls_map_net.net.2.weight_v', 'cls_map_net.net.4.bias', 'cls_map_net.net.4.weight_orig', 'cls_map_net.net.4.weight_u', 'cls_map_net.net.4.weight_v', 'cls_map_net.net.6.bias', 'cls_map_net.net.6.weight_orig', 'cls_map_net.net.6.weight_u', 'cls_map_net.net.6.weight_v', 'init_z.init.weight_orig', 'init_z.init.weight_u', 'init_z.init.weight_v', 'up_8.main.1.affine_cond.bias', 'up_8.main.1.affine_cond.weight_orig', 'up_8.main.1.affine_cond.weight_u', 'up_8.main.1.affine_cond.weight_v', 'up_8.main.3.weight_orig', 'up_8.main.3.weight_u', 'up_8.main.3.weight_v', 'up_16.main.1.affine_cond.bias', 'up_16.main.1.affine_cond.weight_orig', 'up_16.main.1.affine_cond.weight_u', 'up_16.main.1.affine_cond.weight_v', 'up_16.main.3.weight_orig', 'up_16.main.3.weight_u', 'up_16.main.3.weight_v', 'up_32.main.1.affine_cond.bias', 'up_32.main.1.affine_cond.weight_orig', 'up_32.main.1.affine_cond.weight_u', 'up_32.main.1.affine_cond.weight_v', 'up_32.main.3.weight_orig', 'up_32.main.3.weight_u', 'up_32.main.3.weight_v', 'up_64.main.1.affine_cond.bias', 'up_64.main.1.affine_cond.weight_orig', 'up_64.main.1.affine_cond.weight_u', 'up_64.main.1.affine_cond.weight_v', 'up_64.main.3.weight_orig', 'up_64.main.3.weight_u', 'up_64.main.3.weight_v', 'up_128.main.1.affine_cond.bias', 'up_128.main.1.affine_cond.weight_orig', 'up_128.main.1.affine_cond.weight_u', 'up_128.main.1.affine_cond.weight_v', 'up_128.main.3.weight_orig', 'up_128.main.3.weight_u', 'up_128.main.3.weight_v', 'up_256.main.1.affine_cond.bias', 'up_256.main.1.affine_cond.weight_orig', 'up_256.main.1.affine_cond.weight_u', 'up_256.main.1.affine_cond.weight_v', 'up_256.main.3.weight_orig', 'up_256.main.3.weight_u', 'up_256.main.3.weight_v', 'se_8_64.to_context.weight_orig', 'se_8_64.to_context.weight_u', 'se_8_64.to_context.weight_v', 'se_8_64.transform.0.weight_orig', 'se_8_64.transform.0.weight_u', 'se_8_64.transform.0.weight_v', 'se_8_64.transform.2.weight_orig', 'se_8_64.transform.2.weight_u', 'se_8_64.transform.2.weight_v', 'se_16_128.to_context.weight_orig', 'se_16_128.to_context.weight_u', 'se_16_128.to_context.weight_v', 'se_16_128.transform.0.weight_orig', 'se_16_128.transform.0.weight_u', 'se_16_128.transform.0.weight_v', 'se_16_128.transform.2.weight_orig', 'se_16_128.transform.2.weight_u', 'se_16_128.transform.2.weight_v', 'se_32_256.to_context.weight_orig', 'se_32_256.to_context.weight_u', 'se_32_256.to_context.weight_v', 'se_32_256.transform.0.weight_orig', 'se_32_256.transform.0.weight_u', 'se_32_256.transform.0.weight_v', 'se_32_256.transform.2.weight_orig', 'se_32_256.transform.2.weight_u', 'se_32_256.transform.2.weight_v', 'to_out.0.weight_orig', 'to_out.0.weight_u', 'to_out.0.weight_v'])\n"
     ]
    },
    {
     "name": "stderr",
     "output_type": "stream",
     "text": [
      "/tmp/ipykernel_3075/3537472318.py:1: FutureWarning: You are using `torch.load` with `weights_only=False` (the current default value), which uses the default pickle module implicitly. It is possible to construct malicious pickle data which will execute arbitrary code during unpickling (See https://github.com/pytorch/pytorch/blob/main/SECURITY.md#untrusted-models for more details). In a future release, the default value for `weights_only` will be flipped to `True`. This limits the functions that could be executed during unpickling. Arbitrary objects will no longer be allowed to be loaded via this mode unless they are explicitly allowlisted by the user via `torch.serialization.add_safe_globals`. We recommend you start setting `weights_only=True` for any use case where you don't have full control of the loaded file. Please open an issue on GitHub for any issues related to this experimental feature.\n",
      "  checkpoint = torch.load(\"/workspaces/CellGAN/checkpoints/model.pth\", map_location=torch.device(\"cpu\"))['model']\n"
     ]
    }
   ],
   "source": [
    "checkpoint = torch.load(\"/workspaces/CellGAN/checkpoints/model.pth\", map_location=torch.device(\"cpu\"))['model']\n",
    "print(checkpoint.keys())\n"
   ]
  }
 ],
 "metadata": {
  "kernelspec": {
   "display_name": "Python 3",
   "language": "python",
   "name": "python3"
  },
  "language_info": {
   "codemirror_mode": {
    "name": "ipython",
    "version": 3
   },
   "file_extension": ".py",
   "mimetype": "text/x-python",
   "name": "python",
   "nbconvert_exporter": "python",
   "pygments_lexer": "ipython3",
   "version": "3.12.1"
  }
 },
 "nbformat": 4,
 "nbformat_minor": 2
}
